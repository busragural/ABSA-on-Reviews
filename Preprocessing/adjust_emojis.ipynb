{
 "cells": [
  {
   "cell_type": "code",
   "execution_count": 2,
   "metadata": {},
   "outputs": [],
   "source": [
    "import re\n",
    "import emoji\n",
    "\n",
    "def adjust_dot_before_emoji(text):\n",
    "    \"\"\"\n",
    "    Metin içerisindeki, emojiden hemen önce gelen nokta ve varsa boşlukları kaldırır,\n",
    "    noktayı emojinin hemen sonuna ekler.\n",
    "    Eğer gelen değer string değilse, olduğu gibi döndürür.\n",
    "    \"\"\"\n",
    "    # Eğer text string değilse, doğrudan geri döndür.\n",
    "    if not isinstance(text, str):\n",
    "        return text\n",
    "\n",
    "    # Yaygın emoji aralıklarını kapsayan regex ifadesi\n",
    "    emoji_pattern = (\n",
    "        \"[\" \n",
    "        \"\\U0001F600-\\U0001F64F\"  # Emoticonlar\n",
    "        \"\\U0001F300-\\U0001F5FF\"  # Simgeler ve Piktogramlar\n",
    "        \"\\U0001F680-\\U0001F6FF\"  # Ulaşım ve Harita Simgeleri\n",
    "        \"\\U0001F1E0-\\U0001F1FF\"  # Bayraklar\n",
    "        \"]+\"\n",
    "    )\n",
    "    \n",
    "    # Noktadan sonra isteğe bağlı boşluklar ve ardından emoji arayan regex\n",
    "    pattern = re.compile(r'\\.\\s*(' + emoji_pattern + r')')\n",
    "    \n",
    "    # Eşleşen her durumda, emoji'nin sonuna nokta ekleriz.\n",
    "    return pattern.sub(lambda m: m.group(1) + \".\", text)\n",
    "\n",
    "\n",
    "import pandas as pd\n",
    "\n",
    "# CSV dosyasını okuyoruz.\n",
    "df = pd.read_csv(\"/Users/busragural/Desktop/4.1/ABSA/Data/dataset/processingWithGemini.csv\")\n",
    "\n",
    "df['Split_Review'] = df['Split_Review'].apply(adjust_dot_before_emoji)\n",
    "\n",
    "df.to_csv('/Users/busragural/Desktop/4.1/ABSA/Data/dataset/processingWithGemini2.csv', index=False)\n"
   ]
  }
 ],
 "metadata": {
  "kernelspec": {
   "display_name": "Python 3",
   "language": "python",
   "name": "python3"
  },
  "language_info": {
   "codemirror_mode": {
    "name": "ipython",
    "version": 3
   },
   "file_extension": ".py",
   "mimetype": "text/x-python",
   "name": "python",
   "nbconvert_exporter": "python",
   "pygments_lexer": "ipython3",
   "version": "3.12.3"
  }
 },
 "nbformat": 4,
 "nbformat_minor": 2
}
